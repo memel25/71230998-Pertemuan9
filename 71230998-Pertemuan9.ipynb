{
 "cells": [
  {
   "cell_type": "code",
   "execution_count": null,
   "id": "668dcf2a",
   "metadata": {},
   "outputs": [],
   "source": [
    "def banding(file1, file2):\n",
    "    with open(file1, \"r\") as file1:\n",
    "        ls1 = [line.rstrip() for line in file1]\n",
    "\n",
    "    with open(file2, \"r\") as file2:\n",
    "        ls2 = [line.rstrip() for line in file2]\n",
    "\n",
    "    gabung = zip(ls1, ls2)\n",
    "    no = 1\n",
    "    for l1, l2 in gabung:\n",
    "        if l1 != l2:\n",
    "            print(f\"Perbedaan di baris {no}:\")\n",
    "            print(f\"File 1: {l1}\")\n",
    "            print(f\"File 2: {l2}\")\n",
    "        no += 1\n",
    "\n",
    "file1 = input(\"Masukkan nama file pertama : \")\n",
    "file2 = input(\"Masukkan nama file kedua : \")\n",
    "banding(file1, file2)"
   ]
  },
  {
   "cell_type": "code",
   "execution_count": null,
   "id": "82438908",
   "metadata": {},
   "outputs": [],
   "source": [
    "def kuis(file):\n",
    "    with open(file, \"r\") as f:\n",
    "        ls = [line.rstrip() for line in f]\n",
    "\n",
    "    for l in ls:\n",
    "        soal = l.split(\"||\")\n",
    "        print(f\"Pertanyaan: {soal[0]}\")\n",
    "        kunci = soal[1].lower().strip()\n",
    "        jawaban = input(\"Jawab: \").lower().strip()\n",
    "\n",
    "        if kunci == jawaban:\n",
    "            print(\"Jawaban benar!\")\n",
    "        else:\n",
    "            print(\"Jawaban salah!\")\n",
    "\n",
    "file = input(\"Sebutkan file soal : \")\n",
    "kuis(file)"
   ]
  },
  {
   "cell_type": "code",
   "execution_count": null,
   "id": "1fa6a7be",
   "metadata": {},
   "outputs": [],
   "source": []
  }
 ],
 "metadata": {
  "kernelspec": {
   "display_name": "Python 3 (ipykernel)",
   "language": "python",
   "name": "python3"
  },
  "language_info": {
   "codemirror_mode": {
    "name": "ipython",
    "version": 3
   },
   "file_extension": ".py",
   "mimetype": "text/x-python",
   "name": "python",
   "nbconvert_exporter": "python",
   "pygments_lexer": "ipython3",
   "version": "3.11.5"
  }
 },
 "nbformat": 4,
 "nbformat_minor": 5
}
